{
 "cells": [
  {
   "cell_type": "code",
   "execution_count": 43,
   "metadata": {
    "scrolled": true
   },
   "outputs": [],
   "source": [
    "import pandas as pd\n",
    "import nltk\n",
    "from nltk.stem import PorterStemmer\n",
    "from nltk.tokenize import word_tokenize \n",
    "import nltk\n",
    "from collections import Counter \n",
    "import re\n",
    "from nltk.corpus import stopwords\n",
    "stop_words  = set(stopwords.words('english'))\n",
    "stop_words.update([\".\",\"!\",',','?','@','..',','])\n",
    "import emoji\n",
    "from sklearn.metrics import accuracy_score\n",
    "from sklearn.feature_extraction.text import CountVectorizer\n",
    "from gensim.summarization import keywords\n",
    "import seaborn as sns\n",
    "import matplotlib.pyplot as plt\n",
    "from nltk.sentiment.vader import SentimentIntensityAnalyzer\n",
    "ds = r\"\\b(?:a*(?:ha)+h?|(?:l+o+)+`l+)\\b\"    ## detect haha and lol word.\n",
    "emotion_list = [ ':)', ':-)', ':(',':D',':-D',':P',':-P','<3','<-3',\\\n",
    "                ':v','(y)',':poop',':(',':-(']"
   ]
  },
  {
   "cell_type": "code",
   "execution_count": null,
   "metadata": {},
   "outputs": [],
   "source": []
  },
  {
   "cell_type": "code",
   "execution_count": 44,
   "metadata": {},
   "outputs": [
    {
     "data": {
      "text/plain": [
       "14"
      ]
     },
     "execution_count": 44,
     "metadata": {},
     "output_type": "execute_result"
    }
   ],
   "source": [
    "len(emotion_list)"
   ]
  },
  {
   "cell_type": "code",
   "execution_count": 45,
   "metadata": {},
   "outputs": [],
   "source": [
    "# take list of string.\n",
    "def getFeatureVectorName():\n",
    "    temp = []\n",
    "#     for item in emoji_list:\n",
    "#         temp.append(item)\n",
    "    temp.append(\"haha\")\n",
    "    temp.append(\"lol\")\n",
    "#     for item in emotion_list:\n",
    "#         temp.append(item)\n",
    "    return temp\n",
    "\n",
    "def generateFeatureVector(s):\n",
    "    input_string = \" \".join(s)\n",
    "#     res = Counter(\" \".join(input_string))\n",
    "#     res = Counter(s)\n",
    "    f_v=[]\n",
    "#     for item in emoji_list:\n",
    "#         f_v.append(res[item])\n",
    "    \n",
    "    count_haha = sum(1 for _ in re.finditer(r'\\b%s\\b' % re.escape(\"haha\"), input_string))\n",
    "    count_lol = sum(1 for _ in re.finditer(r'\\b%s\\b' % re.escape(\"lol\"), input_string))\n",
    "    \n",
    "    f_v.append(count_haha)\n",
    "    f_v.append(count_lol)\n",
    "\n",
    "    \n",
    "#     for item in emotion_list:\n",
    "#         f_v.append(input_string.count(item))\n",
    "        \n",
    "    \n",
    "    \n",
    "    return f_v\n",
    "    "
   ]
  },
  {
   "cell_type": "code",
   "execution_count": 46,
   "metadata": {},
   "outputs": [],
   "source": [
    "import sqlite3\n",
    "conn = sqlite3.connect('youtube')\n",
    "cursor = conn.cursor()"
   ]
  },
  {
   "cell_type": "code",
   "execution_count": 47,
   "metadata": {},
   "outputs": [],
   "source": [
    "def load_data(file):\n",
    "    cnt=0\n",
    "    x1=[]\n",
    "    x2=[]\n",
    "    y_train=[]\n",
    "    with open(file, \"r\") as fd:\n",
    "        lines = fd.read().splitlines()\n",
    "    for line in lines:\n",
    "        word = line.split(',')\n",
    "        y_train.append(word[2])\n",
    "        x1.append(word[0])\n",
    "        x2.append(word[1])\n",
    "        \n",
    "    temp = []\n",
    "    for i in range(0,len(x1)):\n",
    "        rows1 = conn.execute(\"select movieid , comment from youtube_info where movieid in (?)\",(x1[i],))\n",
    "        rows2 = conn.execute(\"select movieid , comment from youtube_info where movieid in (?)\",(x2[i],))\n",
    "        l1 = len(rows1.fetchall())\n",
    "        l2 = len(rows2.fetchall())\n",
    "        rows1 = conn.execute(\"select movieid , comment from youtube_info where movieid in (?)\",(x1[i],))\n",
    "        rows2 = conn.execute(\"select movieid , comment from youtube_info where movieid in (?)\",(x2[i],))\n",
    "        if(l1 and l2):\n",
    "            for row in rows1:\n",
    "                m1=row[0]\n",
    "                c1=row[1]\n",
    "            for row in rows2:\n",
    "                m2=row[0]\n",
    "                c2=row[1]\n",
    "            temp.append([m1,m2,c1,c2,c1+c2,y_train[i]])\n",
    "    df = pd.DataFrame(temp,columns=['m1','m2','c1','c2','all','class'])\n",
    "    df = df[(df[df.columns] != \"NULL\").all(axis=1)]\n",
    "    return df\n",
    "\n",
    "    "
   ]
  },
  {
   "cell_type": "code",
   "execution_count": 48,
   "metadata": {},
   "outputs": [],
   "source": [
    "file_train =\"comedy_comparisons/comedy_comparisons.train\"\n",
    "file_test = \"comedy_comparisons/comedy_comparisons.test\"\n",
    "df_train = load_data(file_train)\n",
    "# df_test  = load_data(file_test)\n",
    "# df_test = df_test.head(10)\n",
    "# df_train = df_train.head(10)\n",
    "\n",
    "\n",
    "# x1,x2,comment_x1,comment_x2= load_data(file)"
   ]
  },
  {
   "cell_type": "code",
   "execution_count": 49,
   "metadata": {},
   "outputs": [],
   "source": [
    "# print(df_test.shape)\n",
    "# print(df_train.shape)\n"
   ]
  },
  {
   "cell_type": "code",
   "execution_count": 50,
   "metadata": {},
   "outputs": [],
   "source": [
    "def processComment(comment):\n",
    "    import re\n",
    "    ds = r\"\\b(?:a*(?:ha)+h?|(?:l+o+)+`l+)\\b\"    ## detect haha and lol word.\n",
    "    ps = PorterStemmer() \n",
    "    corpus = []\n",
    "    for line in comment:\n",
    "        line = line.lower();\n",
    "        words = word_tokenize(line)\n",
    "        temp = []\n",
    "        for w in words:\n",
    "#             if w not in stop_words:\n",
    "            pattern_word = re.findall(ds,w)\n",
    "            if len(pattern_word):\n",
    "                if(pattern_word[0].find(\"haha\")!=-1):\n",
    "                    w = \"haha\"\n",
    "                if(pattern_word[0].find(\"lol\")!=-1):\n",
    "                    w=\"lol\"\n",
    "            temp.append(ps.stem(w.lower()))\n",
    "        corpus.append(temp)\n",
    "    return corpus\n",
    "\n",
    "def changeDataFrame(df):\n",
    "    comment1 = processComment(df['c1'])\n",
    "    comment2 = processComment(df['c2'])\n",
    "    c=[]\n",
    "    for item in df['class']:\n",
    "        if item==\"left\":\n",
    "            c.append(0)\n",
    "        elif item == \"right\":\n",
    "            c.append(1)\n",
    "    df['class']=c\n",
    "    df['c1'] = comment1\n",
    "    df['c2']=comment2\n",
    "    c1_feature=[]\n",
    "    c2_feature=[]\n",
    "    \n",
    "    for item in df['c1']:\n",
    "        c1_feature.append(generateFeatureVector(item))\n",
    "    for item in df['c2']:\n",
    "        c2_feature.append(generateFeatureVector(item))\n",
    "        \n",
    "    c1_subtract=[]\n",
    "    for i in range(0,len(c1_feature)):\n",
    "        temp=[]\n",
    "        for j in range(0,len(c1_feature[i])):\n",
    "            temp.append(c1_feature[i][j]-c2_feature[i][j])\n",
    "        c1_subtract.append(temp)\n",
    "            \n",
    "    new_df = pd.DataFrame(c1_subtract)\n",
    "    new_df.columns = getFeatureVectorName()\n",
    "    temp = []\n",
    "    \n",
    "    for item in new_df.columns:\n",
    "        col_name = \"is_\"+item\n",
    "        l=list(new_df[item]>0)\n",
    "        \n",
    "        for i in range(0,len(l)):\n",
    "            if l[i] == True:\n",
    "                l[i]=1\n",
    "            else:\n",
    "                l[i]=0\n",
    "        new_df[col_name]=l\n",
    "        \n",
    "    new_df['class']=c\n",
    "    return new_df\n",
    "    \n",
    "    \n",
    "\n",
    "\n",
    "\n",
    "\n",
    "##takes input as a dataframe\n",
    "def getListOfAllEmoji(df):\n",
    "    emoji_list=[]\n",
    "    for item in df['c1']:\n",
    "        for c in item:\n",
    "            if c in emoji.UNICODE_EMOJI:\n",
    "                emoji_list.append(c)\n",
    "    for item in df['c2']:\n",
    "        for c in item:\n",
    "            if c in emoji.UNICODE_EMOJI:\n",
    "                emoji_list.append(c)\n",
    "    emoji_list = set(emoji_list) \n",
    "    emoji_list = list(emoji_list)\n",
    "    return emoji_list\n",
    "\n",
    "# emoji_list = getListOfAllEmoji(df_train)\n"
   ]
  },
  {
   "cell_type": "code",
   "execution_count": 51,
   "metadata": {},
   "outputs": [
    {
     "name": "stdout",
     "output_type": "stream",
     "text": [
      "(223328, 6)\n"
     ]
    }
   ],
   "source": [
    "print(df_train.shape)"
   ]
  },
  {
   "cell_type": "code",
   "execution_count": 52,
   "metadata": {},
   "outputs": [],
   "source": [
    "df_train = df_train.head(50000)"
   ]
  },
  {
   "cell_type": "code",
   "execution_count": 53,
   "metadata": {},
   "outputs": [],
   "source": [
    "# df_train = df_train.head(10)\n",
    "df_train = changeDataFrame(df_train)"
   ]
  },
  {
   "cell_type": "code",
   "execution_count": 16,
   "metadata": {},
   "outputs": [],
   "source": [
    "# df_train.to_csv(\"df_train\")"
   ]
  },
  {
   "cell_type": "code",
   "execution_count": 3,
   "metadata": {},
   "outputs": [],
   "source": [
    "df_train = pd.read_csv(\"df_train\")\n",
    "del df_train['Unnamed: 0']"
   ]
  },
  {
   "cell_type": "code",
   "execution_count": 18,
   "metadata": {},
   "outputs": [
    {
     "name": "stdout",
     "output_type": "stream",
     "text": [
      "(223328, 5)\n"
     ]
    },
    {
     "data": {
      "text/plain": [
       "Index(['haha', 'lol', 'is_haha', 'is_lol', 'class'], dtype='object')"
      ]
     },
     "execution_count": 18,
     "metadata": {},
     "output_type": "execute_result"
    }
   ],
   "source": [
    "print(df_train.shape)\n",
    "df_train.columns"
   ]
  },
  {
   "cell_type": "code",
   "execution_count": null,
   "metadata": {},
   "outputs": [],
   "source": []
  },
  {
   "cell_type": "code",
   "execution_count": 54,
   "metadata": {},
   "outputs": [],
   "source": [
    "from sklearn.metrics import confusion_matrix\n",
    "def plot_confusion_matrix(test_y, predict_y):\n",
    "    C = confusion_matrix(test_y, predict_y)\n",
    "    A =(((C.T)/(C.sum(axis=1))).T)\n",
    "    B =(C/C.sum(axis=0))\n",
    "    plt.figure(figsize=(20,4))\n",
    "    labels = [0,1]\n",
    "# representing A in heatmap format\n",
    "    cmap=sns.light_palette(\"blue\")\n",
    "    plt.subplot(1, 3, 1)\n",
    "    sns.heatmap(C, annot=True, cmap=cmap, fmt=\".3f\", xticklabels=labels, yticklabels=labels)\n",
    "    plt.xlabel('Predicted Class')\n",
    "    plt.ylabel('Original Class')\n",
    "    plt.title(\"Confusion matrix\")\n",
    "    plt.subplot(1, 3, 2)\n",
    "    sns.heatmap(B, annot=True, cmap=cmap, fmt=\".3f\", xticklabels=labels, yticklabels=labels)\n",
    "    plt.xlabel('Predicted Class')\n",
    "    plt.ylabel('Original Class')\n",
    "    plt.title(\"Precision matrix\")\n",
    "    plt.subplot(1, 3, 3)\n",
    "# representing B in heatmap format\n",
    "    sns.heatmap(A, annot=True, cmap=cmap, fmt=\".3f\", xticklabels=labels, yticklabels=labels)\n",
    "    plt.xlabel('Predicted Class')\n",
    "    plt.ylabel('Original Class')\n",
    "    plt.title(\"Recall matrix\")\n",
    "    plt.show()"
   ]
  },
  {
   "cell_type": "code",
   "execution_count": null,
   "metadata": {},
   "outputs": [],
   "source": []
  },
  {
   "cell_type": "code",
   "execution_count": 55,
   "metadata": {},
   "outputs": [
    {
     "data": {
      "text/html": [
       "<div>\n",
       "<style scoped>\n",
       "    .dataframe tbody tr th:only-of-type {\n",
       "        vertical-align: middle;\n",
       "    }\n",
       "\n",
       "    .dataframe tbody tr th {\n",
       "        vertical-align: top;\n",
       "    }\n",
       "\n",
       "    .dataframe thead th {\n",
       "        text-align: right;\n",
       "    }\n",
       "</style>\n",
       "<table border=\"1\" class=\"dataframe\">\n",
       "  <thead>\n",
       "    <tr style=\"text-align: right;\">\n",
       "      <th></th>\n",
       "      <th>haha</th>\n",
       "      <th>lol</th>\n",
       "      <th>is_haha</th>\n",
       "      <th>is_lol</th>\n",
       "      <th>class</th>\n",
       "    </tr>\n",
       "  </thead>\n",
       "  <tbody>\n",
       "    <tr>\n",
       "      <th>0</th>\n",
       "      <td>2</td>\n",
       "      <td>2</td>\n",
       "      <td>1</td>\n",
       "      <td>1</td>\n",
       "      <td>0</td>\n",
       "    </tr>\n",
       "    <tr>\n",
       "      <th>1</th>\n",
       "      <td>2</td>\n",
       "      <td>1</td>\n",
       "      <td>1</td>\n",
       "      <td>1</td>\n",
       "      <td>0</td>\n",
       "    </tr>\n",
       "    <tr>\n",
       "      <th>2</th>\n",
       "      <td>2</td>\n",
       "      <td>2</td>\n",
       "      <td>1</td>\n",
       "      <td>1</td>\n",
       "      <td>0</td>\n",
       "    </tr>\n",
       "    <tr>\n",
       "      <th>3</th>\n",
       "      <td>-1</td>\n",
       "      <td>-4</td>\n",
       "      <td>0</td>\n",
       "      <td>0</td>\n",
       "      <td>1</td>\n",
       "    </tr>\n",
       "    <tr>\n",
       "      <th>4</th>\n",
       "      <td>20</td>\n",
       "      <td>25</td>\n",
       "      <td>1</td>\n",
       "      <td>1</td>\n",
       "      <td>0</td>\n",
       "    </tr>\n",
       "  </tbody>\n",
       "</table>\n",
       "</div>"
      ],
      "text/plain": [
       "   haha  lol  is_haha  is_lol  class\n",
       "0     2    2        1       1      0\n",
       "1     2    1        1       1      0\n",
       "2     2    2        1       1      0\n",
       "3    -1   -4        0       0      1\n",
       "4    20   25        1       1      0"
      ]
     },
     "execution_count": 55,
     "metadata": {},
     "output_type": "execute_result"
    }
   ],
   "source": [
    "df_train.head()"
   ]
  },
  {
   "cell_type": "markdown",
   "metadata": {},
   "source": [
    "# LOGISTIC REGRESSION"
   ]
  },
  {
   "cell_type": "code",
   "execution_count": 56,
   "metadata": {},
   "outputs": [],
   "source": [
    "y = df_train['class']\n",
    "# del df_train['class']\n",
    "X= df_train"
   ]
  },
  {
   "cell_type": "code",
   "execution_count": 57,
   "metadata": {},
   "outputs": [],
   "source": [
    "from sklearn.linear_model import LogisticRegression\n",
    "from sklearn.model_selection import train_test_split\n",
    "X_train, X_test, y_train, y_test = train_test_split(X, y, test_size=0.33, random_state=42)\n",
    "clf = LogisticRegression(random_state=0, solver='lbfgs',multi_class='multinomial',max_iter=1000,n_jobs=-1).fit(X_train, y_train)"
   ]
  },
  {
   "cell_type": "code",
   "execution_count": 58,
   "metadata": {},
   "outputs": [
    {
     "name": "stdout",
     "output_type": "stream",
     "text": [
      "(33500, 5)\n",
      "(16500, 5)\n"
     ]
    }
   ],
   "source": [
    "print(X_train.shape)\n",
    "print(X_test.shape)"
   ]
  },
  {
   "cell_type": "code",
   "execution_count": 59,
   "metadata": {},
   "outputs": [],
   "source": [
    "y_pred = clf.predict(X_test)"
   ]
  },
  {
   "cell_type": "code",
   "execution_count": 60,
   "metadata": {},
   "outputs": [
    {
     "data": {
      "text/plain": [
       "1.0"
      ]
     },
     "execution_count": 60,
     "metadata": {},
     "output_type": "execute_result"
    }
   ],
   "source": [
    "accuracy_score(y_test,y_pred)"
   ]
  },
  {
   "cell_type": "code",
   "execution_count": 61,
   "metadata": {},
   "outputs": [],
   "source": [
    "from sklearn.metrics import accuracy_score"
   ]
  },
  {
   "cell_type": "markdown",
   "metadata": {},
   "source": [
    "# Confusion matrix."
   ]
  },
  {
   "cell_type": "code",
   "execution_count": 62,
   "metadata": {},
   "outputs": [
    {
     "data": {
      "image/png": "[encoded data removed]",
      "text/plain": [
       "<Figure size 1440x288 with 6 Axes>"
      ]
     },
     "metadata": {},
     "output_type": "display_data"
    }
   ],
   "source": [
    "plot_confusion_matrix(y_test,y_pred)"
   ]
  },
  {
   "cell_type": "markdown",
   "metadata": {},
   "source": [
    "# STEPS:-"
   ]
  },
  {
   "cell_type": "markdown",
   "metadata": {},
   "source": [
    "1) Collected maximum 20 comment from each youtube id. <br>\n",
    "\n",
    "2) Discard those dataset which youtube id exist but youtube video itself doesn't exist itself. <br>\n",
    "\n",
    "3) Manully handcraft \"haha\" and \"lol\" feature for which i got 100 percent accuracy. I tried all the emoji, but \"haha\" and \"lol\" feature gives me  very pretty performance. <br> \n",
    "\n",
    "4)Total feature =[\"haha\",\"lol\",\"is_haha\",\"is_lol\"] <br> where \"is_haha\" represent boolean expression(count(\"haha\") on left_id > count(\"haha\") on right_id\" and same for \"lol\" feature. <br>\n",
    "  \n",
    "5) Applied Logistic Regression model with total of two feature named as \"haha\" and \"lol\" and it gives me 100 percent accuracy. <br>\n",
    "\n"
   ]
  },
  {
   "cell_type": "markdown",
   "metadata": {},
   "source": [
    "# Conclusion"
   ]
  },
  {
   "cell_type": "code",
   "execution_count": 63,
   "metadata": {},
   "outputs": [],
   "source": [
    "from prettytable import PrettyTable"
   ]
  },
  {
   "cell_type": "code",
   "execution_count": 64,
   "metadata": {},
   "outputs": [],
   "source": [
    "x = PrettyTable()\n",
    "x.field_names = [\"model_name\",\"training Accuracy\",\"test_Accuracy\"]"
   ]
  },
  {
   "cell_type": "code",
   "execution_count": null,
   "metadata": {},
   "outputs": [],
   "source": [
    "x.add_row([\"Logistic Regression\",accuracy_score(y_train,clf.predict(X_train)),accuracy_score(y_test,clf.predict(X_test))])"
   ]
  },
  {
   "cell_type": "code",
   "execution_count": null,
   "metadata": {},
   "outputs": [],
   "source": [
    "print(x)"
   ]
  },
  {
   "cell_type": "code",
   "execution_count": null,
   "metadata": {},
   "outputs": [],
   "source": []
  }
 ],
 "metadata": {
  "kernelspec": {
   "display_name": "Python 3",
   "language": "python",
   "name": "python3"
  },
  "language_info": {
   "codemirror_mode": {
    "name": "ipython",
    "version": 3
   },
   "file_extension": ".py",
   "mimetype": "text/x-python",
   "name": "python",
   "nbconvert_exporter": "python",
   "pygments_lexer": "ipython3",
   "version": "3.6.5"
  }
 },
 "nbformat": 4,
 "nbformat_minor": 2
}
